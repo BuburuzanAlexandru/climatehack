{
 "cells": [
  {
   "cell_type": "code",
   "execution_count": null,
   "id": "225597fd-be37-460e-a8b8-90a7f1a33cf1",
   "metadata": {},
   "outputs": [],
   "source": [
    "from datetime import datetime, time, timedelta\n",
    "from random import randrange, choice\n",
    "import os\n",
    "import numpy as np\n",
    "import xarray as xr\n",
    "from config import config\n",
    "from multiprocessing import Pool\n",
    "from tqdm.notebook import tqdm"
   ]
  },
  {
   "cell_type": "code",
   "execution_count": null,
   "id": "f776bfa6-5559-4de9-b686-21b900a1a0ae",
   "metadata": {},
   "outputs": [],
   "source": [
    "dataset = xr.open_dataset(\n",
    "    config['dataset_path'],\n",
    "    engine=\"zarr\",\n",
    "    chunks=\"auto\",\n",
    "    cache=True# Load the data as a Dask array\n",
    ")"
   ]
  },
  {
   "cell_type": "code",
   "execution_count": null,
   "id": "2e24f39f-e199-420d-a754-61be50c1f017",
   "metadata": {},
   "outputs": [],
   "source": [
    "num = 0"
   ]
  },
  {
   "cell_type": "markdown",
   "id": "6bce6bbe-1d75-48d6-9840-b5db241bd779",
   "metadata": {},
   "source": [
    "### Utils"
   ]
  },
  {
   "cell_type": "code",
   "execution_count": null,
   "id": "2f92f6bc-e0da-4d45-a99a-f7ea79dbc52e",
   "metadata": {},
   "outputs": [],
   "source": [
    "def get_dates():\n",
    "    times = dataset.get_index(\"time\")\n",
    "    date = times[0]\n",
    "    end_date = times[-1]\n",
    "    date_list = []\n",
    "\n",
    "    while date <= end_date:\n",
    "        date += timedelta(days=1)\n",
    "        date_list.append(date)\n",
    "        \n",
    "    return date_list"
   ]
  },
  {
   "cell_type": "code",
   "execution_count": null,
   "id": "509fb4cf-fec7-40d6-8f42-18d65017f71b",
   "metadata": {},
   "outputs": [],
   "source": [
    "def get_random_state():\n",
    "    return choice([False] * 8 + [True] * 2)"
   ]
  },
  {
   "cell_type": "code",
   "execution_count": null,
   "id": "05feb0ea-01e2-4f11-a948-2cff83972d07",
   "metadata": {},
   "outputs": [],
   "source": [
    "def get_crop(input_slice, target_slice):\n",
    "    # roughly over the mainland UK\n",
    "    rand_x = randrange(300, 1400 - 128)\n",
    "    rand_y = randrange(300, 850 - 128)\n",
    "\n",
    "    # make a data selection\n",
    "    selection = input_slice.isel(\n",
    "        x=slice(rand_x, rand_x + 128),\n",
    "        y=slice(rand_y, rand_y + 128),\n",
    "    )\n",
    "\n",
    "    # get the OSGB coordinate data\n",
    "    osgb_data = np.stack(\n",
    "        [\n",
    "            selection[\"x_osgb\"].values,\n",
    "            selection[\"y_osgb\"].values\n",
    "        ]\n",
    "    )\n",
    "\n",
    "    if osgb_data.shape != (2, 128, 128):\n",
    "        return None\n",
    "\n",
    "    # get the input satellite imagery\n",
    "    input_data = selection[\"data\"].values\n",
    "    if input_data.shape != (12, 128, 128):\n",
    "        return None\n",
    "\n",
    "    # get the target output\n",
    "    target_output = (\n",
    "        target_slice[\"data\"]\n",
    "        .isel(\n",
    "            x=slice(rand_x, rand_x + 128),\n",
    "            y=slice(rand_y, rand_y + 128),\n",
    "        )\n",
    "        .values\n",
    "    )\n",
    "\n",
    "    if target_output.shape != (24, 128, 128):\n",
    "        return None\n",
    "\n",
    "    return osgb_data, input_data, target_output"
   ]
  },
  {
   "cell_type": "code",
   "execution_count": null,
   "id": "52e5c6e3-c102-4353-9d84-963dda29ea31",
   "metadata": {},
   "outputs": [],
   "source": [
    "def process_time(start_time, filename):\n",
    "    data_slice = dataset.loc[\n",
    "        {\n",
    "            \"time\": slice(\n",
    "                start_time,\n",
    "                start_time + timedelta(hours=2, minutes=55),\n",
    "            )\n",
    "        }\n",
    "    ]\n",
    "    global num\n",
    "    if data_slice.sizes[\"time\"] != 36:\n",
    "        print(start_time, data_slice.sizes[\"time\"])\n",
    "        num += 1\n",
    "        return\n",
    "    return\n",
    "\n",
    "    input_slice = data_slice.isel(time=slice(0, 12))\n",
    "    target_slice = data_slice.isel(time=slice(12, 36))\n",
    "    \n",
    "    for crop_num in range(5):\n",
    "        crop = get_crop(input_slice, target_slice)\n",
    "        if crop == None:\n",
    "            print(filename, 'none')\n",
    "            continue\n",
    "\n",
    "        osgb_data, input_data, target_output = crop\n",
    "        path = os.path.join(config['data_path'], filename)\n",
    "\n",
    "        np.save(path + '_' + str(crop_num) + '_osgb', osgb_data)\n",
    "        np.save(path + '_' + str(crop_num) + '_input', input_data)\n",
    "        np.save(path + '_' + str(crop_num) + '_target', target_output)"
   ]
  },
  {
   "cell_type": "code",
   "execution_count": null,
   "id": "005a27a7-0499-4a5d-beb0-3a70cc22cf05",
   "metadata": {},
   "outputs": [],
   "source": [
    "def process_day(date):\n",
    "    # print('processing ', date)\n",
    "    start_time = time(9, 0)\n",
    "    end_time = time(14, 0)\n",
    "    is_valid = get_random_state()\n",
    "    print(is_valid)\n",
    "    \n",
    "    current_time = datetime.combine(date, start_time)\n",
    "    while current_time.time() <= end_time:\n",
    "        if is_valid:\n",
    "            filename = 'valid\\\\' + '_'.join(str(current_time).split(' ')).replace(':', '-')\n",
    "        else:\n",
    "            filename = 'train\\\\' + '_'.join(str(current_time).split(' ')).replace(':', '-')\n",
    "\n",
    "        process_time(current_time, filename)\n",
    "        current_time += timedelta(minutes=60)\n",
    "\n",
    "    date += timedelta(days=1)"
   ]
  },
  {
   "cell_type": "code",
   "execution_count": null,
   "id": "5b23b9ff-32b2-4b30-9532-020052455be3",
   "metadata": {},
   "outputs": [],
   "source": [
    "date_list = get_dates()"
   ]
  },
  {
   "cell_type": "code",
   "execution_count": null,
   "id": "894a26b3-f20e-429c-bc76-e4093123d702",
   "metadata": {},
   "outputs": [],
   "source": [
    "dataset.get_index(\"time\")[1500:1600]"
   ]
  },
  {
   "cell_type": "code",
   "execution_count": null,
   "id": "5c5f510b-12de-469b-a875-dfcf705e9677",
   "metadata": {},
   "outputs": [],
   "source": [
    "process_day(date_list[4])"
   ]
  },
  {
   "cell_type": "code",
   "execution_count": null,
   "id": "004f8aec-3be4-4e93-83c7-c7d73f2554e8",
   "metadata": {},
   "outputs": [],
   "source": [
    "for date in tqdm(date_list, total=len(date_list)):\n",
    "    process_day(date)"
   ]
  },
  {
   "cell_type": "code",
   "execution_count": null,
   "id": "0a8c6694-f511-453a-ab32-1db4c9c67380",
   "metadata": {},
   "outputs": [],
   "source": [
    "num"
   ]
  },
  {
   "cell_type": "markdown",
   "id": "9941b1f2-e80d-422c-8888-b85356164c5f",
   "metadata": {},
   "source": [
    "#### Visualize region"
   ]
  },
  {
   "cell_type": "code",
   "execution_count": null,
   "id": "895e5ec7-2ffd-4011-adb1-346d1cd504a8",
   "metadata": {},
   "outputs": [],
   "source": [
    "import matplotlib.pyplot as plt\n",
    "\n",
    "plt.rcParams[\"figure.figsize\"] = (20, 12)"
   ]
  },
  {
   "cell_type": "code",
   "execution_count": null,
   "id": "8a832f3f-6fdf-4d49-a8fe-bac5bc7199fa",
   "metadata": {},
   "outputs": [],
   "source": [
    "DATETIME_TO_PLOT = \"2021-09-01 16:00\"\n",
    "data_array = dataset['data'].isel(x=slice(300, 1400), y=slice(300, 850))\n",
    "data_array.sel(time=DATETIME_TO_PLOT).plot();"
   ]
  },
  {
   "cell_type": "code",
   "execution_count": null,
   "id": "c19d6593-2028-4c8e-8881-a1ce7d60743c",
   "metadata": {},
   "outputs": [],
   "source": []
  }
 ],
 "metadata": {
  "kernelspec": {
   "display_name": "Python 3 (ipykernel)",
   "language": "python",
   "name": "python3"
  },
  "language_info": {
   "codemirror_mode": {
    "name": "ipython",
    "version": 3
   },
   "file_extension": ".py",
   "mimetype": "text/x-python",
   "name": "python",
   "nbconvert_exporter": "python",
   "pygments_lexer": "ipython3",
   "version": "3.9.10"
  }
 },
 "nbformat": 4,
 "nbformat_minor": 5
}
