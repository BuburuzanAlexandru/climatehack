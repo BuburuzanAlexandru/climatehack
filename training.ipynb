{
 "cells": [
  {
   "cell_type": "markdown",
   "id": "642c976a",
   "metadata": {},
   "source": [
    "## Importing modules"
   ]
  },
  {
   "cell_type": "code",
   "execution_count": null,
   "id": "21dbe01d-ba0e-4b66-bcaf-51363c993334",
   "metadata": {},
   "outputs": [],
   "source": [
    "import numpy as np\n",
    "import xarray as xr\n",
    "import matplotlib.pyplot as plt\n",
    "import pickle\n",
    "\n",
    "import torch\n",
    "import torch.nn as nn\n",
    "\n",
    "from torch.utils.data import DataLoader\n",
    "from torch.utils.tensorboard import SummaryWriter\n",
    "\n",
    "from tqdm.notebook import trange, tqdm"
   ]
  },
  {
   "cell_type": "code",
   "execution_count": null,
   "id": "ccebc6d1",
   "metadata": {},
   "outputs": [],
   "source": [
    "from utils.dataset import ClimateHackDataset\n",
    "from utils.dataset_preprocessed import ClimatehackDatasetPreprocessed\n",
    "from utils.loss import MS_SSIMLoss\n",
    "from utils.utils import *\n",
    "from utils.lr_finder import LRFinder\n",
    "from config import config, results_config\n",
    "\n",
    "from submission.ConvLSTM2 import ConvLSTM"
   ]
  },
  {
   "cell_type": "code",
   "execution_count": null,
   "id": "6acd9afa-2fdc-4526-8818-a5590494f456",
   "metadata": {},
   "outputs": [],
   "source": [
    "device = torch.device(config['device'])\n",
    "create_files(results_config.values())\n",
    "save_logs(config, config['logs_path'])\n",
    "device"
   ]
  },
  {
   "cell_type": "markdown",
   "id": "8ed68a4d-906e-4769-933f-e7c4f4831b66",
   "metadata": {},
   "source": [
    "#### Dataloader"
   ]
  },
  {
   "cell_type": "code",
   "execution_count": null,
   "id": "e7446ff5",
   "metadata": {},
   "outputs": [],
   "source": [
    "dataset = xr.open_dataset(\n",
    "    config['dataset_path'],\n",
    "    engine=\"zarr\",\n",
    "    chunks=\"auto\",  # Load the data as a Dask array\n",
    ")\n",
    "\n",
    "# train_dataset = ClimateHackDataset(dataset, crops_per_slice=1, day_limit=100)\n",
    "\n",
    "# with open('D:\\\\climate_hack\\\\dataset.obj', 'rb') as file:\n",
    "#     ch_dataset.cached_items = pickle.load(file)\n",
    "\n",
    "# train_dataloader = DataLoader(train_dataset, batch_size=config['batch_size'])"
   ]
  },
  {
   "cell_type": "code",
   "execution_count": null,
   "id": "08d5b401-3a20-479e-9e27-3d74eaa28adf",
   "metadata": {},
   "outputs": [],
   "source": [
    "train_dataset = ClimatehackDatasetPreprocessed(config['data_path'] + '\\\\train', config['data_path'] + '\\\\train_list.json')\n",
    "train_dataloader = DataLoader(train_dataset, batch_size=config['batch_size'], num_workers=config['num_workers'], shuffle=True)"
   ]
  },
  {
   "cell_type": "code",
   "execution_count": null,
   "id": "1884aa93-9909-4b4f-8e6b-5be299adb478",
   "metadata": {},
   "outputs": [],
   "source": [
    "valid_dataset = ClimatehackDatasetPreprocessed(config['data_path'] + '\\\\valid', config['data_path'] + '\\\\valid_list.json')\n",
    "valid_dataloader = DataLoader(valid_dataset, batch_size=config['batch_size'], num_workers=config['num_workers'], shuffle=False)"
   ]
  },
  {
   "cell_type": "markdown",
   "id": "45e017e9",
   "metadata": {},
   "source": [
    "### Instantiating the model"
   ]
  },
  {
   "cell_type": "code",
   "execution_count": null,
   "id": "175f56de-0657-4edf-9ce4-9fb763acf584",
   "metadata": {},
   "outputs": [],
   "source": [
    "# model = UNet(in_channels=12, out_channels=24, dim=2).to(device)\n",
    "# model = EncoderDecoderConvLSTM(nf=32, encoder_channels=32).to(device)\n",
    "# model = EncoderDecoderConvLSTM(nf=8).to(device)\n",
    "# model = Model().to(device)\n",
    "model = ConvLSTM().to(device)"
   ]
  },
  {
   "cell_type": "code",
   "execution_count": null,
   "id": "1759751d",
   "metadata": {},
   "outputs": [],
   "source": [
    "optimizer = torch.optim.Adam(model.parameters(), lr=config['lr'])\n",
    "criterion = MS_SSIMLoss(channels=24) # produces less blurry images than nn.MSELoss()\n",
    "# criterion = nn.MSELoss()"
   ]
  },
  {
   "cell_type": "code",
   "execution_count": null,
   "id": "d4b10897-c7af-414c-8963-365da5b7c867",
   "metadata": {},
   "outputs": [],
   "source": [
    "# lr_finder = LRFinder(model, optimizer, criterion)\n",
    "# lr_finder.range_test(train_dataloader, end_lr=1, num_iter=500, start_lr=1e-6)\n",
    "# lr_finder.plot()"
   ]
  },
  {
   "cell_type": "code",
   "execution_count": null,
   "id": "8c9aa753-bd7d-4c80-a288-1ae260a2fa59",
   "metadata": {},
   "outputs": [],
   "source": [
    "# scheduler = torch.optim.lr_scheduler.OneCycleLR(optimizer, max_lr=config['lr'], epochs=config['num_epochs'], steps_per_epoch=(len(ch_dataset.cached_items)//config['batch_size'] + 1))"
   ]
  },
  {
   "cell_type": "code",
   "execution_count": null,
   "id": "f8189f6a-b130-4541-9cff-d2ffbac09c28",
   "metadata": {},
   "outputs": [],
   "source": [
    "writer = SummaryWriter(config['tensorboard_path'])"
   ]
  },
  {
   "cell_type": "code",
   "execution_count": null,
   "id": "f63e4c89-5c9f-40ee-ad50-f6a95124eb70",
   "metadata": {},
   "outputs": [],
   "source": [
    "# model.load_state_dict(torch.load('submission/model_conv-lstm-unet_all-data_0.214valid.pt'))"
   ]
  },
  {
   "cell_type": "markdown",
   "id": "c62ee67f",
   "metadata": {},
   "source": [
    "### Training the model"
   ]
  },
  {
   "cell_type": "code",
   "execution_count": null,
   "id": "6e9ab56c-119c-4148-a4ac-6449f51341d1",
   "metadata": {},
   "outputs": [],
   "source": [
    "train_batch = 0\n",
    "valid_batch = 0"
   ]
  },
  {
   "cell_type": "code",
   "execution_count": null,
   "id": "2b522d66",
   "metadata": {},
   "outputs": [],
   "source": [
    "for epoch in trange(config['num_epochs']):\n",
    "    \"\"\"\n",
    "    Train\n",
    "    \"\"\"\n",
    "    train_loss = 0\n",
    "    count = 0\n",
    "    model = model.train()\n",
    "\n",
    "    for inputs, target in tqdm(train_dataloader):\n",
    "        inputs = inputs.to(device)\n",
    "        target = target.to(device)\n",
    "        \n",
    "        # clear gradients\n",
    "        optimizer.zero_grad()\n",
    "        \n",
    "        # forward\n",
    "        output = model(inputs)\n",
    "        assert output.min() > 1 and output.max() <= 1024\n",
    "        assert target.min() > 1 and target.max() <= 1024\n",
    "        batch_loss = criterion(output, target)\n",
    "        \n",
    "        # compute gradients\n",
    "        batch_loss.backward()\n",
    "        \n",
    "        # update weights\n",
    "        optimizer.step()\n",
    "        \n",
    "        # update stats\n",
    "        train_loss += batch_loss.item() * output.shape[0]\n",
    "        count += output.shape[0]\n",
    "\n",
    "        # writer.add_scalar('Train/loss', batch_loss.item(), train_batch)\n",
    "        writer.add_scalar('Train/lr', get_lr(optimizer), train_batch)\n",
    "        \n",
    "        if train_batch % 400 == 0:\n",
    "            plot_preds(inputs.squeeze(2).detach().cpu().numpy()[0] * 1024,\n",
    "                       target.squeeze(2).detach().cpu().numpy()[0] ,\n",
    "                       output.squeeze(2).detach().cpu().numpy()[0])\n",
    "            \n",
    "        train_batch += 1\n",
    "        \n",
    "        # scheduler.step()\n",
    "\n",
    "        del inputs, target, output, batch_loss\n",
    "    print(train_loss / count)\n",
    "    writer.add_scalar('Train/loss', train_loss / count, epoch)\n",
    "    \n",
    "    \n",
    "    \"\"\"\n",
    "    Valid\n",
    "    \"\"\"\n",
    "    valid_loss = 0\n",
    "    count = 0\n",
    "    model = model.eval()\n",
    "\n",
    "    with torch.no_grad():\n",
    "        for inputs, target in tqdm(valid_dataloader):\n",
    "            inputs = inputs.to(device)\n",
    "            target = target.to(device)\n",
    "            \n",
    "            output = model(inputs)\n",
    "            assert output.min() > 1 and output.max() <= 1024\n",
    "            assert target.min() > 1 and target.max() <= 1024\n",
    "            \n",
    "            batch_loss = criterion(output, target)\n",
    "            \n",
    "            valid_loss += batch_loss.item() * output.shape[0]\n",
    "            count += output.shape[0]\n",
    "            \n",
    "            if valid_batch % 200 == 0:\n",
    "                plot_preds(inputs.squeeze(2).cpu().numpy()[0] * 1024,\n",
    "                           target.squeeze(2).cpu().numpy()[0],\n",
    "                           output.squeeze(2).cpu().numpy()[0])\n",
    "                \n",
    "            valid_batch += 1\n",
    "            \n",
    "            del inputs, target, output, batch_loss\n",
    "    \n",
    "    print(valid_loss / count)\n",
    "    writer.add_scalar('Valid/loss', valid_loss / count, epoch)\n",
    "    \n",
    "    save_model(epoch, model, optimizer, config['checkpoints_path'])\n",
    "    # print(f\"Loss for epoch {epoch + 1}/{EPOCHS}: {losses[-1]}\")"
   ]
  },
  {
   "cell_type": "markdown",
   "id": "af0555a3",
   "metadata": {},
   "source": [
    "### Visualising predictions\n",
    "\n",
    "Having trained the model, it is often useful to visualise some of its predictions to ensure it is producing a sensible output."
   ]
  },
  {
   "cell_type": "code",
   "execution_count": null,
   "id": "380ec842-ec77-410f-9d3b-40b6e11ee60f",
   "metadata": {},
   "outputs": [],
   "source": [
    "config['checkpoints_path']"
   ]
  },
  {
   "cell_type": "code",
   "execution_count": null,
   "id": "064caf93-4e14-4112-ac0b-9de6ed0b66b7",
   "metadata": {},
   "outputs": [],
   "source": [
    "# model.load_state_dict(torch.load('D:/climate_hack/results/conv_lstm_2d-decoder_mse/checkpoints/4.pt')['state_dict'])\n",
    "model.load_state_dict(torch.load('submission/model_conv-lstm-unet_all-data.pt'))"
   ]
  },
  {
   "cell_type": "code",
   "execution_count": null,
   "id": "dd8bcd56-39d2-4141-a5a4-260c5f692c5a",
   "metadata": {},
   "outputs": [],
   "source": [
    "x = dataset[\"data\"].sel(time=slice(\"2020-07-01 12:00\", \"2020-07-01 12:55\")).isel(x=slice(128, 256), y=slice(128, 256)).to_numpy()\n",
    "y = dataset[\"data\"].sel(time=slice(\"2020-07-01 13:00\", \"2020-07-01 14:55\")).isel(x=slice(160, 224), y=slice(160, 224)).to_numpy()\n",
    "x_ = torch.from_numpy(x.astype(np.float32)).to(device).view(1, 12, 1, 128, 128) / 1024\n",
    "print(x_.shape)\n",
    "p = model(x_).detach().squeeze().cpu().numpy()\n",
    "# p = p * 1023.0\n",
    "\n",
    "plot_preds(x, y, p)"
   ]
  },
  {
   "cell_type": "code",
   "execution_count": null,
   "id": "16ccd168",
   "metadata": {},
   "outputs": [],
   "source": [
    "x = dataset[\"data\"].sel(time=slice(\"2020-07-01 12:00\", \"2020-07-01 12:55\")).isel(x=slice(128, 256), y=slice(128, 256)).to_numpy()\n",
    "y = dataset[\"data\"].sel(time=slice(\"2020-07-01 13:00\", \"2020-07-01 14:55\")).isel(x=slice(160, 224), y=slice(160, 224)).to_numpy()\n",
    "x_ = torch.from_numpy(x.astype(np.float32)).to(device).view(1, 12, 1, 128, 128) / 1023\n",
    "print(x_.shape)\n",
    "p = model(x_).detach().squeeze().cpu().numpy()\n",
    "# p = p * 1023.0\n",
    "\n",
    "plot_preds(x, y, p)"
   ]
  },
  {
   "cell_type": "code",
   "execution_count": null,
   "id": "f13cecc8-b6f4-43c3-8237-3a6680b66de0",
   "metadata": {},
   "outputs": [],
   "source": [
    "criterion(torch.Tensor(p).to(device).unsqueeze(0), torch.Tensor(y).to(device).unsqueeze(0))"
   ]
  },
  {
   "cell_type": "code",
   "execution_count": null,
   "id": "6febe98b-9efb-4d56-9b1d-54d51dd35e2d",
   "metadata": {},
   "outputs": [],
   "source": [
    "state_dict = model.state_dict()\n",
    "    \n",
    "for key in state_dict.keys():\n",
    "    state_dict[key] = state_dict[key].cpu()"
   ]
  },
  {
   "cell_type": "code",
   "execution_count": null,
   "id": "6c30f8a4-e446-432c-a93c-3dfb39c6488c",
   "metadata": {},
   "outputs": [],
   "source": [
    "torch.save(state_dict, 'submission/model.pt')"
   ]
  },
  {
   "cell_type": "code",
   "execution_count": null,
   "id": "bca2aa12-f818-4be6-8d0e-3aa05b239603",
   "metadata": {},
   "outputs": [],
   "source": [
    "model"
   ]
  },
  {
   "cell_type": "code",
   "execution_count": null,
   "id": "a1acf9be-e5fc-4ca9-be43-0d6e7b54961b",
   "metadata": {},
   "outputs": [],
   "source": [
    "# with open('D:\\\\climate_hack\\\\dataset.obj', 'wb') as file:\n",
    "#     pickle.dump(ch_dataset.cached_items, file)"
   ]
  },
  {
   "cell_type": "markdown",
   "id": "1254c4df",
   "metadata": {},
   "source": [
    "#### Submitting the model to DOXA\n",
    "```bash\n",
    "$ python doxa_cli.py user login\n",
    "```\n",
    "```bash\n",
    "$ python doxa_cli.py agent upload climatehack ./submission\n",
    "```"
   ]
  },
  {
   "cell_type": "code",
   "execution_count": null,
   "id": "59c91cbc-e641-4385-bc8d-e776e685f949",
   "metadata": {},
   "outputs": [],
   "source": []
  }
 ],
 "metadata": {
  "colab": {
   "collapsed_sections": [],
   "name": "Copy of Copy of load_and_plot_HRV_UK_Zarr_from_GCS.ipynb",
   "provenance": []
  },
  "interpreter": {
   "hash": "6f774df9e68be78be8fedc92c8cad2f0688a777ad163558f0717eecbd1f23d05"
  },
  "kernelspec": {
   "display_name": "climatehack",
   "language": "python",
   "name": "climatehack"
  },
  "language_info": {
   "codemirror_mode": {
    "name": "ipython",
    "version": 3
   },
   "file_extension": ".py",
   "mimetype": "text/x-python",
   "name": "python",
   "nbconvert_exporter": "python",
   "pygments_lexer": "ipython3",
   "version": "3.9.10"
  },
  "latex_envs": {
   "LaTeX_envs_menu_present": true,
   "autoclose": false,
   "autocomplete": true,
   "bibliofile": "biblio.bib",
   "cite_by": "apalike",
   "current_citInitial": 1,
   "eqLabelWithNumbers": true,
   "eqNumInitial": 1,
   "hotkeys": {
    "equation": "Ctrl-E",
    "itemize": "Ctrl-I"
   },
   "labels_anchors": false,
   "latex_user_defs": false,
   "report_style_numbering": false,
   "user_envs_cfg": false
  },
  "varInspector": {
   "cols": {
    "lenName": 16,
    "lenType": 16,
    "lenVar": 40
   },
   "kernels_config": {
    "python": {
     "delete_cmd_postfix": "",
     "delete_cmd_prefix": "del ",
     "library": "var_list.py",
     "varRefreshCmd": "print(var_dic_list())"
    },
    "r": {
     "delete_cmd_postfix": ") ",
     "delete_cmd_prefix": "rm(",
     "library": "var_list.r",
     "varRefreshCmd": "cat(var_dic_list()) "
    }
   },
   "types_to_exclude": [
    "module",
    "function",
    "builtin_function_or_method",
    "instance",
    "_Feature"
   ],
   "window_display": false
  }
 },
 "nbformat": 4,
 "nbformat_minor": 5
}
